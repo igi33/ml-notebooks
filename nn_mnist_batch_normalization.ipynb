{
 "cells": [
  {
   "cell_type": "code",
   "execution_count": 74,
   "id": "a3dd2796",
   "metadata": {},
   "outputs": [
    {
     "data": {
      "text/plain": [
       "'\\nBatch Normalization\\nThis notebook contains an implementation of a deep fully-connected neural network with batch normalization,\\napplied to the problem of multi-class classification of handwritten digits.\\nThe training and test sets are ready to use as part of the MNIST dataset containing greyscale images of digits.\\nLink to the dataset: http://yann.lecun.com/exdb/mnist/\\n\\nThe original reason for making this notebook was to practice batch normalization by implementing it from scratch.\\nThis happened while I was following the Deep Learning specialization on Coursera,\\nspecifically the second course called \"Improving Deep Neural Networks\",\\nin which Batch normalization is described but not implemented as part of an assignment.\\n\\nImplemented from scratch with extensive use of the Numpy library, the network contains:\\n- Configurable number of layers and units for each layer,\\n- ReLU activations for all layers except the last, while the last layer uses the Softmax activation,\\n- Categorical cross-entropy loss function,\\n- Adam optimizer as a gradient descent based optimization method,\\n- Mini-batches,\\n- Batch-normalization,\\n- Learning rate decay.\\n'"
      ]
     },
     "execution_count": 74,
     "metadata": {},
     "output_type": "execute_result"
    }
   ],
   "source": [
    "\"\"\"\n",
    "Batch Normalization\n",
    "This notebook contains an implementation of a deep fully-connected neural network with batch normalization,\n",
    "applied to the problem of multi-class classification of handwritten digits.\n",
    "The training and test sets are ready to use as part of the MNIST dataset containing greyscale images of digits.\n",
    "Link to the dataset: http://yann.lecun.com/exdb/mnist/\n",
    "\n",
    "The original reason for making this notebook was to practice batch normalization by implementing it from scratch.\n",
    "This happened while I was following the Deep Learning specialization on Coursera,\n",
    "specifically the second course called \"Improving Deep Neural Networks\",\n",
    "in which Batch normalization is described but not implemented as part of an assignment.\n",
    "\n",
    "Implemented from scratch with extensive use of the Numpy library, the network contains:\n",
    "- Configurable number of layers and units for each layer,\n",
    "- ReLU activations for all layers except the last, while the last layer uses the Softmax activation,\n",
    "- Categorical cross-entropy loss function,\n",
    "- Adam optimizer as a gradient descent based optimization method,\n",
    "- Mini-batches,\n",
    "- Batch-normalization,\n",
    "- Learning rate decay.\n",
    "\"\"\""
   ]
  },
  {
   "cell_type": "code",
   "execution_count": 1,
   "id": "e1611d61",
   "metadata": {},
   "outputs": [],
   "source": [
    "import numpy as np\n",
    "import matplotlib.pyplot as plt\n",
    "import struct\n",
    "import math"
   ]
  },
  {
   "cell_type": "code",
   "execution_count": 2,
   "id": "229d1fef",
   "metadata": {},
   "outputs": [],
   "source": [
    "# LOAD TRAIN EXAMPLES"
   ]
  },
  {
   "cell_type": "code",
   "execution_count": 3,
   "id": "09129582",
   "metadata": {},
   "outputs": [],
   "source": [
    "with open(\"datasets/train-images.idx3-ubyte\", 'rb') as f:\n",
    "    magic, size = struct.unpack(\">II\", f.read(8))\n",
    "    n_rows, n_cols = struct.unpack(\">II\", f.read(8))\n",
    "    x_train_orig = np.fromfile(f, dtype=np.dtype(np.uint8).newbyteorder('>')).reshape((size, n_rows, n_cols))"
   ]
  },
  {
   "cell_type": "code",
   "execution_count": 4,
   "id": "f8fcf029",
   "metadata": {},
   "outputs": [
    {
     "data": {
      "image/png": "[encoded data removed]",
      "text/plain": [
       "<Figure size 432x288 with 1 Axes>"
      ]
     },
     "metadata": {
      "needs_background": "light"
     },
     "output_type": "display_data"
    }
   ],
   "source": [
    "plt.imshow(x_train_orig[size-1, :, :], cmap='gray')\n",
    "plt.show()"
   ]
  },
  {
   "cell_type": "code",
   "execution_count": 5,
   "id": "3784982d",
   "metadata": {},
   "outputs": [
    {
     "name": "stdout",
     "output_type": "stream",
     "text": [
      "number of train examples: 60000\n",
      "rows: 28\n",
      "cols: 28\n"
     ]
    }
   ],
   "source": [
    "print(\"number of train examples: \" + str(size))\n",
    "print(\"rows: \" + str(n_rows))\n",
    "print(\"cols: \" + str(n_cols))"
   ]
  },
  {
   "cell_type": "code",
   "execution_count": 6,
   "id": "4c7eb1a0",
   "metadata": {},
   "outputs": [],
   "source": [
    "# LOAD TRAIN LABELS"
   ]
  },
  {
   "cell_type": "code",
   "execution_count": 7,
   "id": "b0a9b02d",
   "metadata": {},
   "outputs": [],
   "source": [
    "with open(\"datasets/train-labels.idx1-ubyte\", 'rb') as f:\n",
    "    magic, size = struct.unpack(\">II\", f.read(8))\n",
    "    y_train_orig = np.fromfile(f, dtype=np.dtype(np.uint8).newbyteorder('>')).reshape((1, -1))"
   ]
  },
  {
   "cell_type": "code",
   "execution_count": 8,
   "id": "6be5a366",
   "metadata": {},
   "outputs": [
    {
     "name": "stdout",
     "output_type": "stream",
     "text": [
      "number of train labels: 60000\n",
      "8\n"
     ]
    }
   ],
   "source": [
    "print(\"number of train labels: \" + str(size))\n",
    "print(y_train_orig[0, size-1])"
   ]
  },
  {
   "cell_type": "code",
   "execution_count": 9,
   "id": "535d121a",
   "metadata": {},
   "outputs": [
    {
     "data": {
      "image/png": "[encoded data removed]",
      "text/plain": [
       "<Figure size 432x288 with 1 Axes>"
      ]
     },
     "metadata": {
      "needs_background": "light"
     },
     "output_type": "display_data"
    }
   ],
   "source": [
    "n, bins, patches = plt.hist(y_train_orig.reshape((-1,)), 10, facecolor='lightblue', edgecolor='black')\n",
    "plt.title('Train set labels')\n",
    "plt.xlabel('Digit')\n",
    "plt.ylabel('Count')\n",
    "plt.show()"
   ]
  },
  {
   "cell_type": "code",
   "execution_count": 10,
   "id": "2129d68a",
   "metadata": {},
   "outputs": [],
   "source": [
    "# LOAD TEST EXAMPLES"
   ]
  },
  {
   "cell_type": "code",
   "execution_count": 11,
   "id": "030fee65",
   "metadata": {},
   "outputs": [],
   "source": [
    "with open(\"datasets/t10k-images.idx3-ubyte\", 'rb') as f:\n",
    "    magic, size_test = struct.unpack(\">II\", f.read(8))\n",
    "    n_rows, n_cols = struct.unpack(\">II\", f.read(8))\n",
    "    x_test_orig = np.fromfile(f, dtype=np.dtype(np.uint8).newbyteorder('>')).reshape((size_test, n_rows, n_cols))"
   ]
  },
  {
   "cell_type": "code",
   "execution_count": 12,
   "id": "59159a08",
   "metadata": {},
   "outputs": [],
   "source": [
    "# LOAD TEST LABELS"
   ]
  },
  {
   "cell_type": "code",
   "execution_count": 13,
   "id": "bf2761a0",
   "metadata": {},
   "outputs": [],
   "source": [
    "with open(\"datasets/t10k-labels.idx1-ubyte\", 'rb') as f:\n",
    "    magic, size_test = struct.unpack(\">II\", f.read(8))\n",
    "    y_test_orig = np.fromfile(f, dtype=np.dtype(np.uint8).newbyteorder('>')).reshape((1, -1))"
   ]
  },
  {
   "cell_type": "code",
   "execution_count": 14,
   "id": "772ebc15",
   "metadata": {},
   "outputs": [
    {
     "data": {
      "image/png": "[encoded data removed]",
      "text/plain": [
       "<Figure size 432x288 with 1 Axes>"
      ]
     },
     "metadata": {
      "needs_background": "light"
     },
     "output_type": "display_data"
    }
   ],
   "source": [
    "plt.imshow(x_test_orig[5000, :, :], cmap='gray')\n",
    "plt.show()"
   ]
  },
  {
   "cell_type": "code",
   "execution_count": 15,
   "id": "dadc4b54",
   "metadata": {},
   "outputs": [
    {
     "data": {
      "image/png": "[encoded data removed]",
      "text/plain": [
       "<Figure size 432x288 with 1 Axes>"
      ]
     },
     "metadata": {
      "needs_background": "light"
     },
     "output_type": "display_data"
    }
   ],
   "source": [
    "n, bins, patches = plt.hist(y_test_orig.reshape((-1,)), 10, facecolor='lightblue', edgecolor='black')\n",
    "plt.title('Test set labels')\n",
    "plt.xlabel('Digit')\n",
    "plt.ylabel('Count')\n",
    "plt.show()"
   ]
  },
  {
   "cell_type": "code",
   "execution_count": 16,
   "id": "6bfe808c",
   "metadata": {},
   "outputs": [],
   "source": [
    "# Reshape the training and test examples\n",
    "# The \"-1\" makes reshape flatten the remaining dimensions\n",
    "x_train_flat = x_train_orig.reshape(x_train_orig.shape[0], -1).T\n",
    "x_test_flat = x_test_orig.reshape(x_test_orig.shape[0], -1).T"
   ]
  },
  {
   "cell_type": "code",
   "execution_count": 17,
   "id": "51587aaa",
   "metadata": {},
   "outputs": [
    {
     "name": "stdout",
     "output_type": "stream",
     "text": [
      "[[ 5  5  5]\n",
      " [ 2  2  2]\n",
      " [-1 -1 -1]\n",
      " [ 3  3  3]]\n",
      "(array([[0.99330715, 0.99330715, 0.99330715],\n",
      "       [0.88079708, 0.88079708, 0.88079708],\n",
      "       [0.26894142, 0.26894142, 0.26894142],\n",
      "       [0.95257413, 0.95257413, 0.95257413]]), array([[ 5,  5,  5],\n",
      "       [ 2,  2,  2],\n",
      "       [-1, -1, -1],\n",
      "       [ 3,  3,  3]]))\n",
      "(array([[5, 5, 5],\n",
      "       [2, 2, 2],\n",
      "       [0, 0, 0],\n",
      "       [3, 3, 3]]), array([[ 5,  5,  5],\n",
      "       [ 2,  2,  2],\n",
      "       [-1, -1, -1],\n",
      "       [ 3,  3,  3]]))\n",
      "(array([[0.84203357, 0.84203357, 0.84203357],\n",
      "       [0.04192238, 0.04192238, 0.04192238],\n",
      "       [0.00208719, 0.00208719, 0.00208719],\n",
      "       [0.11395685, 0.11395685, 0.11395685]]), array([[ 5,  5,  5],\n",
      "       [ 2,  2,  2],\n",
      "       [-1, -1, -1],\n",
      "       [ 3,  3,  3]]))\n"
     ]
    }
   ],
   "source": [
    "def sigmoid(Z):\n",
    "    return 1 / (1 + np.exp(-Z)), Z\n",
    "\n",
    "def relu(Z):\n",
    "    return np.maximum(Z, 0), Z\n",
    "\n",
    "def softmax(Z):\n",
    "    Z_shifted = Z - np.max(Z)\n",
    "    T = np.exp(Z_shifted)\n",
    "    return T / np.sum(T, axis=0), Z\n",
    "\n",
    "\n",
    "mat = np.array([[5, 2, -1, 3], [5, 2, -1, 3], [5, 2, -1, 3]]).T\n",
    "print(mat)\n",
    "\n",
    "print(sigmoid(mat))\n",
    "print(relu(mat))\n",
    "print(softmax(mat))"
   ]
  },
  {
   "cell_type": "code",
   "execution_count": 18,
   "id": "ec6034c2",
   "metadata": {},
   "outputs": [
    {
     "name": "stdout",
     "output_type": "stream",
     "text": [
      "[[2 4 6 6]]\n",
      "[[0. 0. 0. 0.]\n",
      " [0. 0. 0. 0.]\n",
      " [1. 0. 0. 0.]\n",
      " [0. 0. 0. 0.]\n",
      " [0. 1. 0. 0.]\n",
      " [0. 0. 0. 0.]\n",
      " [0. 0. 1. 1.]\n",
      " [0. 0. 0. 0.]\n",
      " [0. 0. 0. 0.]\n",
      " [0. 0. 0. 0.]]\n"
     ]
    }
   ],
   "source": [
    "def one_hot_encoding(labels, depth):\n",
    "    one_hot = np.zeros((depth, labels.size))\n",
    "    one_hot[labels, np.arange(labels.size)] = 1\n",
    "    return one_hot\n",
    "\n",
    "why_samples = np.array([2, 4, 6, 6]).reshape((1, -1))\n",
    "print(why_samples)\n",
    "print(one_hot_encoding(why_samples, 10))"
   ]
  },
  {
   "cell_type": "code",
   "execution_count": 19,
   "id": "ab1e1e9c",
   "metadata": {},
   "outputs": [],
   "source": [
    "def categorical_cross_entropy(AL, Y_one_hot):\n",
    "    \"\"\"\n",
    "    The categorial cross-entropy cost function that computes the losses from aL and y.\n",
    "\n",
    "    Arguments:\n",
    "    AL -- probability vector corresponding to your label predictions, shape (num_classes, number of examples)\n",
    "    Y -- true \"label\" vector (for example: containing a digit), shape (num_classes, number of examples)\n",
    "\n",
    "    Returns:\n",
    "    cost -- cost\n",
    "    \"\"\"\n",
    "    \n",
    "    m = Y_one_hot.shape[1]\n",
    "    cost = -1 / m * np.sum(Y_one_hot * np.log(AL + 1e-15))\n",
    "    \n",
    "    return cost"
   ]
  },
  {
   "cell_type": "code",
   "execution_count": 86,
   "id": "1de12ec0",
   "metadata": {},
   "outputs": [],
   "source": [
    "def random_mini_batches(X, Y, mini_batch_size = 256):\n",
    "    \"\"\"\n",
    "    Creates a list of random minibatches from (X, Y)\n",
    "    \n",
    "    Arguments:\n",
    "    X -- input data, of shape (input size, number of examples)\n",
    "    Y -- true \"label\" vector (1 for blue dot / 0 for red dot), of shape (1, number of examples)\n",
    "    mini_batch_size -- size of the mini-batches, integer\n",
    "    \n",
    "    Returns:\n",
    "    mini_batches -- list of synchronous (mini_batch_X, mini_batch_Y)\n",
    "    \"\"\"\n",
    "    \n",
    "    m = X.shape[1]                  # number of training examples\n",
    "    mini_batches = []\n",
    "        \n",
    "    # Step 1: Shuffle (X, Y)\n",
    "    permutation = list(np.random.permutation(m))\n",
    "    shuffled_X = X[:, permutation]\n",
    "    shuffled_Y = Y[:, permutation].reshape((-1, m))\n",
    "    \n",
    "    inc = mini_batch_size\n",
    "\n",
    "    # Step 2 - Partition (shuffled_X, shuffled_Y).\n",
    "    # Cases with a complete mini batch size only i.e each of 64 examples.\n",
    "    num_complete_mini_batches = math.floor(m / mini_batch_size) # number of mini batches of size mini_batch_size in your partitionning\n",
    "    for k in range(0, num_complete_mini_batches):\n",
    "        mini_batch_X = shuffled_X[:, k * inc:(k+1) * inc]\n",
    "        mini_batch_Y = shuffled_Y[:, k * inc:(k+1) * inc]\n",
    "        mini_batch = (mini_batch_X, mini_batch_Y)\n",
    "        mini_batches.append(mini_batch)\n",
    "    \n",
    "    # For handling the end case (last mini-batch < mini_batch_size i.e less than 64)\n",
    "    if m % mini_batch_size != 0:\n",
    "        mini_batch_X = shuffled_X[:, inc * num_complete_mini_batches:]\n",
    "        mini_batch_Y = shuffled_Y[:, inc * num_complete_mini_batches:]\n",
    "        mini_batch = (mini_batch_X, mini_batch_Y)\n",
    "        mini_batches.append(mini_batch)\n",
    "    \n",
    "    return mini_batches"
   ]
  },
  {
   "cell_type": "code",
   "execution_count": 84,
   "id": "a9aa1859",
   "metadata": {},
   "outputs": [],
   "source": [
    "def exponential_update_lr(learning_rate0, epoch_num, decay_rate):\n",
    "    \"\"\"\n",
    "    Calculates updated the learning rate using exponential weight decay.\n",
    "    \n",
    "    Arguments:\n",
    "    learning_rate0 -- Original learning rate. Scalar\n",
    "    epoch_num -- Epoch number. Integer\n",
    "    decay_rate -- Decay rate. Scalar\n",
    "\n",
    "    Returns:\n",
    "    learning_rate -- Updated learning rate. Scalar \n",
    "    \"\"\"\n",
    "    learning_rate = 1 / (1 + decay_rate * epoch_num) * learning_rate0\n",
    "    return learning_rate"
   ]
  },
  {
   "cell_type": "code",
   "execution_count": 22,
   "id": "516207d6",
   "metadata": {},
   "outputs": [],
   "source": [
    "def schedule_lr_decay(learning_rate0, epoch_num, decay_rate, time_interval=10):\n",
    "    \"\"\"\n",
    "    Calculates updated the learning rate using exponential weight decay.\n",
    "    \n",
    "    Arguments:\n",
    "    learning_rate0 -- Original learning rate. Scalar\n",
    "    epoch_num -- Epoch number. Integer.\n",
    "    decay_rate -- Decay rate. Scalar.\n",
    "    time_interval -- Number of epochs where you update the learning rate.\n",
    "\n",
    "    Returns:\n",
    "    learning_rate -- Updated learning rate. Scalar \n",
    "    \"\"\"\n",
    "    learning_rate = 1 / (1 + decay_rate * np.floor(epoch_num / time_interval)) * learning_rate0\n",
    "    return learning_rate"
   ]
  },
  {
   "cell_type": "code",
   "execution_count": 23,
   "id": "d24f5ed2",
   "metadata": {},
   "outputs": [],
   "source": [
    "def initialize_parameters_deep(layer_dims):\n",
    "    \"\"\"\n",
    "    Arguments:\n",
    "    layer_dims -- python array (list) containing the dimensions of each layer in our network\n",
    "    \n",
    "    Returns:\n",
    "    parameters -- python dictionary containing parameters \"W1\", \"beta1\", \"gamma1\", ..., \"WL\", \"betaL\", \"gammaL\":\n",
    "                    Wl -- weight matrix of shape (layer_dims[l], layer_dims[l-1])\n",
    "                    betal -- bias vector of shape (layer_dims[l], 1)\n",
    "                    gammal -- bias vector of shape (layer_dims[l], 1)\n",
    "    \"\"\"\n",
    "    \n",
    "    parameters = {}\n",
    "    L = len(layer_dims) # number of layers in the network\n",
    "\n",
    "    for l in range(1, L):\n",
    "        # For ReLU layers initialize weights by multiplying gaussian with np.sqrt(2.0 / layer_dims[l-1])\n",
    "        parameters['W' + str(l)] = np.random.randn(layer_dims[l], layer_dims[l-1]) * np.sqrt(2.0 / layer_dims[l-1])\n",
    "        parameters['beta' + str(l)] = np.zeros((layer_dims[l], 1))\n",
    "        parameters['gamma' + str(l)] = np.ones((layer_dims[l], 1))\n",
    "\n",
    "    return parameters"
   ]
  },
  {
   "cell_type": "code",
   "execution_count": 24,
   "id": "8554416a",
   "metadata": {},
   "outputs": [],
   "source": [
    "def batch_norm(Z, beta, gamma, running_mean = None, running_var = None, epsilon = 1e-15):\n",
    "    \"\"\"\n",
    "    During training, mini-batch mean and variance is calculated from the input.\n",
    "    During testing, running mean and variance is provided instead.\n",
    "    \"\"\"\n",
    "    m = Z.shape[1]\n",
    "    \n",
    "    if running_mean is None or running_var is None:\n",
    "        mean = 1. / m * np.sum(Z, axis=1, keepdims=True)\n",
    "        Zmean = Z - mean\n",
    "        sq = Zmean**2\n",
    "        var = 1. / m * np.sum(sq, axis=1, keepdims=True)\n",
    "    else:\n",
    "        mean = running_mean\n",
    "        Zmean = Z - mean\n",
    "        sq = Zmean**2\n",
    "        var = running_var\n",
    "    \n",
    "    sqrtvar = np.sqrt(var + epsilon)\n",
    "    ivar = 1./sqrtvar\n",
    "    Z_normalized = Zmean * ivar\n",
    "    Z_gamma = gamma * Z_normalized\n",
    "    Z_tilde = Z_gamma + beta\n",
    "    \n",
    "    cache = (Z, Z_normalized, gamma, Zmean, ivar, sqrtvar, epsilon, mean, var)\n",
    "    \n",
    "    return Z_tilde, cache"
   ]
  },
  {
   "cell_type": "code",
   "execution_count": 25,
   "id": "1a6d7e85",
   "metadata": {},
   "outputs": [],
   "source": [
    "def linear_forward(A, W):\n",
    "    \"\"\"\n",
    "    Implement the linear part of a layer's forward propagation.\n",
    "\n",
    "    Arguments:\n",
    "    A -- activations from previous layer (or input data): (size of previous layer, number of examples)\n",
    "    W -- weights matrix: numpy array of shape (size of current layer, size of previous layer)\n",
    "\n",
    "    Returns:\n",
    "    Z -- the input of the activation function, also called pre-activation parameter \n",
    "    cache -- a python tuple containing \"A\", and \"W\"; stored for computing the backward pass efficiently\n",
    "    \"\"\"\n",
    "    \n",
    "    Z = W @ A\n",
    "    cache = (A, W)\n",
    "    \n",
    "    return Z, cache"
   ]
  },
  {
   "cell_type": "code",
   "execution_count": 26,
   "id": "f6313616",
   "metadata": {},
   "outputs": [],
   "source": [
    "def linear_activation_forward(A_prev, W, beta, gamma, activation, layer_mean, layer_var):\n",
    "    \"\"\"\n",
    "    Implement the forward propagation for the LINEAR->ACTIVATION layer\n",
    "\n",
    "    Arguments:\n",
    "    A_prev -- activations from previous layer (or input data): (size of previous layer, number of examples)\n",
    "    W -- weights matrix: numpy array of shape (size of current layer, size of previous layer)\n",
    "    b -- bias vector, numpy array of shape (size of the current layer, 1)\n",
    "    activation -- the activation to be used in this layer, stored as a text string: \"sigmoid\", \"relu\" or \"softmax\"\n",
    "\n",
    "    Returns:\n",
    "    A -- the output of the activation function, also called the post-activation value \n",
    "    cache -- a python tuple containing \"linear_cache\" and \"activation_cache\";\n",
    "             stored for computing the backward pass efficiently\n",
    "    \"\"\"\n",
    "    \n",
    "    Z, linear_cache = linear_forward(A_prev, W)\n",
    "    \n",
    "    # normalize mini-batch\n",
    "    Z_tilde, batch_norm_cache = batch_norm(Z, beta, gamma, layer_mean, layer_var)\n",
    "    \n",
    "    if activation == \"sigmoid\":\n",
    "        A, activation_cache = sigmoid(Z_tilde)\n",
    "    elif activation == \"relu\":\n",
    "        A, activation_cache = relu(Z_tilde)\n",
    "    elif activation == \"softmax\":\n",
    "        A, activation_cache = softmax(Z_tilde)\n",
    "        \n",
    "    cache = (linear_cache, activation_cache, batch_norm_cache)\n",
    "\n",
    "    return A, cache"
   ]
  },
  {
   "cell_type": "code",
   "execution_count": 27,
   "id": "c07108d0",
   "metadata": {},
   "outputs": [],
   "source": [
    "def L_model_forward(X, parameters, L, means_per_layer = None, variances_per_layer = None):\n",
    "    \"\"\"\n",
    "    Implement forward propagation for the [LINEAR->RELU]*(L-1)->[LINEAR->SOFTMAX] computation\n",
    "    \n",
    "    Arguments:\n",
    "    X -- data, numpy array of shape (input size, number of examples)\n",
    "    parameters -- output of initialize_parameters_deep()\n",
    "    \n",
    "    Returns:\n",
    "    AL -- activation value from the output (last) layer\n",
    "    caches -- list of caches containing:\n",
    "                every cache of linear_activation_forward() (there are L of them, indexed from 0 to L-1)\n",
    "    \"\"\"\n",
    "\n",
    "    caches = []\n",
    "    A = X\n",
    "    \n",
    "    # means and variances per layer (relevant only during training)\n",
    "    means = []\n",
    "    variances = []\n",
    "    \n",
    "    # Implement [LINEAR -> RELU]*(L-1). Add \"cache\" to the \"caches\" list.\n",
    "    # The for loop starts at 1 because layer 0 is the input\n",
    "    for l in range(1, L):\n",
    "        layer_mean = None if means_per_layer is None else means_per_layer[l-1]\n",
    "        layer_var = None if variances_per_layer is None else variances_per_layer[l-1] \n",
    "        A_prev = A\n",
    "        A, cache = linear_activation_forward(A_prev, parameters['W' + str(l)], parameters['beta' + str(l)],\n",
    "                                             parameters['gamma' + str(l)], 'relu', layer_mean, layer_var)\n",
    "        _, _, batch_norm_cache = cache\n",
    "        _, _, _, _, _, _, _, mean, var = batch_norm_cache\n",
    "        means.append(mean)\n",
    "        variances.append(var)\n",
    "        caches.append(cache)\n",
    "    \n",
    "    # Implement LINEAR -> SOFTMAX. Add \"cache\" to the \"caches\" list.\n",
    "    layer_mean = None if means_per_layer is None else means_per_layer[L-1]\n",
    "    layer_var = None if variances_per_layer is None else variances_per_layer[L-1]\n",
    "    AL, cache = linear_activation_forward(A, parameters['W' + str(L)], parameters['beta' + str(L)],\n",
    "                                          parameters['gamma' + str(L)], 'softmax', layer_mean, layer_var)\n",
    "    _, _, batch_norm_cache = cache\n",
    "    _, _, _, _, _, _, _, mean, var = batch_norm_cache\n",
    "    means.append(mean)\n",
    "    variances.append(var)\n",
    "    caches.append(cache)\n",
    "          \n",
    "    return AL, caches, means, variances"
   ]
  },
  {
   "cell_type": "code",
   "execution_count": 28,
   "id": "1ae7a449",
   "metadata": {},
   "outputs": [],
   "source": [
    "def compute_cost(AL, Y_one_hot, parameters, lambd):\n",
    "    m = Y_one_hot.shape[1]\n",
    "    \n",
    "    cross_entropy = categorical_cross_entropy(AL, Y_one_hot)\n",
    "    \n",
    "    # Add L2 regularization cost based on parameters W\n",
    "    num_layers = len(parameters) // 3\n",
    "    all_W = np.concatenate(tuple([parameters[\"W\" + str(l)] for l in range(1, num_layers+1)]), axis=None)\n",
    "    L2_regularization_cost = lambd / (2 * m) * np.sum(np.square(all_W))\n",
    "    \n",
    "    return cross_entropy + L2_regularization_cost"
   ]
  },
  {
   "cell_type": "code",
   "execution_count": 29,
   "id": "2397f93d",
   "metadata": {},
   "outputs": [],
   "source": [
    "def final_softmax_layer_backward(Y_one_hot, AL, cache, lambd):\n",
    "    linear_cache, _, batch_norm_cache = cache\n",
    "    \n",
    "    dZL_tilde = AL - Y_one_hot\n",
    "    dZL, dbeta, dgamma = batch_norm_backward(dZL_tilde, batch_norm_cache)\n",
    "    dA_prev, dW = linear_backward(dZL, linear_cache, lambd)\n",
    "    \n",
    "    return dA_prev, dW, dbeta, dgamma"
   ]
  },
  {
   "cell_type": "code",
   "execution_count": 30,
   "id": "f05b2b89",
   "metadata": {},
   "outputs": [],
   "source": [
    "def linear_activation_backward(dA, cache, activation, lambd):\n",
    "    linear_cache, activation_cache, batch_norm_cache = cache\n",
    "    \n",
    "    if activation == \"relu\":\n",
    "        dZ_tilde = relu_backward(dA, activation_cache)\n",
    "    elif activation == \"sigmoid\":\n",
    "        dZ_tilde = sigmoid_backward(dA, activation_cache)\n",
    "        \n",
    "    dZ, dbeta, dgamma = batch_norm_backward(dZ_tilde, batch_norm_cache)\n",
    "    dA_prev, dW = linear_backward(dZ, linear_cache, lambd)\n",
    "    \n",
    "    return dA_prev, dW, dbeta, dgamma"
   ]
  },
  {
   "cell_type": "code",
   "execution_count": 31,
   "id": "3f4b7f6e",
   "metadata": {},
   "outputs": [],
   "source": [
    "def sigmoid_backward(dA, Z):\n",
    "    s, _ = sigmoid(Z)\n",
    "    return dA * s * (1 - s)\n",
    "\n",
    "def relu_backward(dA, Z):\n",
    "    return dA * np.greater(Z, 0).astype(int)"
   ]
  },
  {
   "cell_type": "code",
   "execution_count": 32,
   "id": "e99792cf",
   "metadata": {},
   "outputs": [],
   "source": [
    "def batch_norm_backward(dZ_tilde, batch_norm_cache):\n",
    "    Z, Z_normalized, gamma, Zmean, ivar, sqrtvar, epsilon, mean, var = batch_norm_cache\n",
    "    \n",
    "    m = dZ_tilde.shape[1]\n",
    "    \n",
    "    dbeta = np.sum(dZ_tilde, axis=1, keepdims=True)\n",
    "    dgamma = np.sum(dZ_tilde * Z_normalized, axis=1, keepdims=True)\n",
    "    \n",
    "    dZ_normalized = dZ_tilde * gamma\n",
    "    divar = np.sum(dZ_normalized * Zmean, axis=1, keepdims=True)\n",
    "    dxmu1 = dZ_normalized * ivar\n",
    "    dsqrtvar = -1. /(sqrtvar**2) * divar\n",
    "    dvar = 0.5 * 1. /np.sqrt(var + epsilon) * dsqrtvar\n",
    "    dsq = 1. / m * np.ones(dZ_tilde.shape) * dvar\n",
    "    dxmu2 = 2 * Zmean * dsq\n",
    "    dZ1 = dxmu1 + dxmu2\n",
    "    dmu = -1 * np.sum(dZ1, axis=1, keepdims=True)\n",
    "    dZ2 = 1. / m * np.ones(dZ_tilde.shape) * dmu\n",
    "    dZ = dZ1 + dZ2\n",
    "\n",
    "    #t = 1. / np.sqrt(var + eps)\n",
    "    #dZ = (gamma * t / m) * (m * dZ_tilde - dbeta - t**2 * (Z - mean) * np.sum(dZ_tilde * (Z - mean), axis=1, keepdims=True))\n",
    "    \n",
    "    return dZ, dbeta, dgamma"
   ]
  },
  {
   "cell_type": "code",
   "execution_count": 33,
   "id": "d35d2216",
   "metadata": {},
   "outputs": [],
   "source": [
    "def linear_backward(dZ, linear_cache, lambd):\n",
    "    A_prev, W = linear_cache\n",
    "    m = A_prev.shape[1]\n",
    "\n",
    "    dW = 1.0/m * dZ @ A_prev.T + lambd / m * W\n",
    "    dA_prev = W.T @ dZ\n",
    "    \n",
    "    return dA_prev, dW"
   ]
  },
  {
   "cell_type": "code",
   "execution_count": 34,
   "id": "6f4ff0b7",
   "metadata": {},
   "outputs": [],
   "source": [
    "def L_model_backward(AL, Y, caches, lambd):\n",
    "    grads = {}\n",
    "    L = len(caches) # the number of layers\n",
    "    m = AL.shape[1]\n",
    "    Y = Y.reshape(AL.shape) # after this line, Y is the same shape as AL\n",
    "    \n",
    "    current_cache = caches[L-1]\n",
    "    dA_prev_temp, dW_temp, dbeta_temp, dgamma_temp = final_softmax_layer_backward(Y, AL, current_cache, lambd)\n",
    "    grads[\"dW\" + str(L)] = dW_temp\n",
    "    grads[\"dbeta\" + str(L)] = dbeta_temp\n",
    "    grads[\"dgamma\" + str(L)] = dgamma_temp\n",
    "\n",
    "    for l in reversed(range(L-1)):\n",
    "        current_cache = caches[l]\n",
    "        dA_prev_temp, dW_temp, dbeta_temp, dgamma_temp = linear_activation_backward(dA_prev_temp, current_cache, 'relu', lambd)\n",
    "        grads[\"dW\" + str(l + 1)] = dW_temp\n",
    "        grads[\"dbeta\" + str(l + 1)] = dbeta_temp\n",
    "        grads[\"dgamma\" + str(l + 1)] = dgamma_temp\n",
    "\n",
    "    return grads"
   ]
  },
  {
   "cell_type": "code",
   "execution_count": 35,
   "id": "472edd21",
   "metadata": {},
   "outputs": [],
   "source": [
    "def initialize_adam(parameters) :\n",
    "    \"\"\"\n",
    "    Initializes v and s as two python dictionaries with:\n",
    "                - keys: \"dW1\", \"db1\", ..., \"dWL\", \"dbL\" \n",
    "                - values: numpy arrays of zeros of the same shape as the corresponding gradients/parameters.\n",
    "    \n",
    "    Arguments:\n",
    "    parameters -- python dictionary containing your parameters.\n",
    "                    parameters[\"W\" + str(l)] = Wl\n",
    "                    parameters[\"b\" + str(l)] = bl\n",
    "    \n",
    "    Returns: \n",
    "    v -- python dictionary that will contain the exponentially weighted average of the gradient. Initialized with zeros.\n",
    "                    v[\"dW\" + str(l)] = ...\n",
    "                    v[\"db\" + str(l)] = ...\n",
    "    s -- python dictionary that will contain the exponentially weighted average of the squared gradient. Initialized with zeros.\n",
    "                    s[\"dW\" + str(l)] = ...\n",
    "                    s[\"db\" + str(l)] = ...\n",
    "\n",
    "    \"\"\"\n",
    "    \n",
    "    L = len(parameters) // 3 # number of layers in the neural networks\n",
    "    v = {}\n",
    "    s = {}\n",
    "    \n",
    "    # Initialize v, s. Input: \"parameters\". Outputs: \"v, s\".\n",
    "    for l in range(1, L + 1):\n",
    "        W_shape = parameters[\"W\" + str(l)].shape\n",
    "        beta_shape = parameters[\"beta\" + str(l)].shape\n",
    "        gamma_shape = parameters[\"gamma\" + str(l)].shape\n",
    "        v[\"dW\" + str(l)] = np.zeros(W_shape)\n",
    "        v[\"dbeta\" + str(l)] = np.zeros(beta_shape)\n",
    "        v[\"dgamma\" + str(l)] = np.zeros(gamma_shape)\n",
    "        s[\"dW\" + str(l)] = np.zeros(W_shape)\n",
    "        s[\"dbeta\" + str(l)] = np.zeros(beta_shape)\n",
    "        s[\"dgamma\" + str(l)] = np.zeros(gamma_shape)\n",
    "    \n",
    "    return v, s"
   ]
  },
  {
   "cell_type": "code",
   "execution_count": 36,
   "id": "38121de4",
   "metadata": {},
   "outputs": [],
   "source": [
    "def update_parameters_with_adam(parameters, grads, v, s, t, learning_rate,\n",
    "                                beta1 = 0.9, beta2 = 0.999, epsilon = 1e-8):\n",
    "    \"\"\"\n",
    "    Update parameters using Adam\n",
    "    \n",
    "    Arguments:\n",
    "    parameters -- python dictionary containing your parameters:\n",
    "                    parameters['W' + str(l)] = Wl\n",
    "                    parameters['b' + str(l)] = bl\n",
    "    grads -- python dictionary containing your gradients for each parameters:\n",
    "                    grads['dW' + str(l)] = dWl\n",
    "                    grads['db' + str(l)] = dbl\n",
    "    v -- Adam variable, moving average of the first gradient, python dictionary\n",
    "    s -- Adam variable, moving average of the squared gradient, python dictionary\n",
    "    t -- Adam variable, counts the number of taken steps\n",
    "    learning_rate -- the learning rate, scalar.\n",
    "    beta1 -- Exponential decay hyperparameter for the first moment estimates \n",
    "    beta2 -- Exponential decay hyperparameter for the second moment estimates \n",
    "    epsilon -- hyperparameter preventing division by zero in Adam updates\n",
    "\n",
    "    Returns:\n",
    "    parameters -- python dictionary containing your updated parameters \n",
    "    v -- Adam variable, moving average of the first gradient, python dictionary\n",
    "    s -- Adam variable, moving average of the squared gradient, python dictionary\n",
    "    \"\"\"\n",
    "    \n",
    "    L = len(parameters) // 3                 # number of layers in the neural networks\n",
    "    v_corrected = {}                         # Initializing first moment estimate, python dictionary\n",
    "    s_corrected = {}                         # Initializing second moment estimate, python dictionary\n",
    "    \n",
    "    # Perform Adam update on all parameters\n",
    "    for l in range(1, L + 1):\n",
    "        # Moving average of the gradients. Inputs: \"v, grads, beta1\". Output: \"v\".\n",
    "        v[\"dW\" + str(l)] = beta1 * v[\"dW\" + str(l)] + (1 - beta1) * grads[\"dW\" + str(l)]\n",
    "        v[\"dbeta\" + str(l)] = beta1 * v[\"dbeta\" + str(l)] + (1 - beta1) * grads[\"dbeta\" + str(l)]\n",
    "        v[\"dgamma\" + str(l)] = beta1 * v[\"dgamma\" + str(l)] + (1 - beta1) * grads[\"dgamma\" + str(l)]\n",
    "\n",
    "        # Compute bias-corrected first moment estimate. Inputs: \"v, beta1, t\". Output: \"v_corrected\".\n",
    "        v_corrected[\"dW\" + str(l)] = v[\"dW\" + str(l)] / (1 - beta1**t)\n",
    "        v_corrected[\"dbeta\" + str(l)] = v[\"dbeta\" + str(l)] / (1 - beta1**t)\n",
    "        v_corrected[\"dgamma\" + str(l)] = v[\"dgamma\" + str(l)] / (1 - beta1**t)\n",
    "\n",
    "        # Moving average of the squared gradients. Inputs: \"s, grads, beta2\". Output: \"s\".\n",
    "        s[\"dW\" + str(l)] = beta2 * s[\"dW\" + str(l)] + (1 - beta2) * grads[\"dW\" + str(l)]**2\n",
    "        s[\"dbeta\" + str(l)] = beta2 * s[\"dbeta\" + str(l)] + (1 - beta2) * grads[\"dbeta\" + str(l)]**2\n",
    "        s[\"dgamma\" + str(l)] = beta2 * s[\"dgamma\" + str(l)] + (1 - beta2) * grads[\"dgamma\" + str(l)]**2\n",
    "\n",
    "        # Compute bias-corrected second raw moment estimate. Inputs: \"s, beta2, t\". Output: \"s_corrected\".\n",
    "        s_corrected[\"dW\" + str(l)] = s[\"dW\" + str(l)] / (1 - beta2**t)\n",
    "        s_corrected[\"dbeta\" + str(l)] = s[\"dbeta\" + str(l)] / (1 - beta2**t)\n",
    "        s_corrected[\"dgamma\" + str(l)] = s[\"dgamma\" + str(l)] / (1 - beta2**t)\n",
    "\n",
    "        # Update parameters. Inputs: \"parameters, learning_rate, v_corrected, s_corrected, epsilon\". Output: \"parameters\".\n",
    "        parameters[\"W\" + str(l)] -= learning_rate * (v_corrected[\"dW\" + str(l)] / (np.sqrt(s_corrected[\"dW\" + str(l)]) + epsilon))\n",
    "        parameters[\"beta\" + str(l)] -= learning_rate * (v_corrected[\"dbeta\" + str(l)] / (np.sqrt(s_corrected[\"dbeta\" + str(l)]) + epsilon))\n",
    "        parameters[\"gamma\" + str(l)] -= learning_rate * (v_corrected[\"dgamma\" + str(l)] / (np.sqrt(s_corrected[\"dgamma\" + str(l)]) + epsilon))\n",
    "\n",
    "    return parameters, v, s, v_corrected, s_corrected"
   ]
  },
  {
   "cell_type": "code",
   "execution_count": 88,
   "id": "6ac824c7",
   "metadata": {},
   "outputs": [],
   "source": [
    "def L_layer_model(X, Y, layer_dims, learning_rate = 0.0075, num_iterations = 50,\n",
    "                  lambd = 0.7, momentum = 0.9, print_cost=True, decay=None, decay_rate=1):\n",
    "    costs = []  # keep track of cost\n",
    "    \n",
    "    parameters = initialize_parameters_deep(layer_dims)\n",
    "    v, s = initialize_adam(parameters)\n",
    "    t = 0  # initializing the counter required for Adam update\n",
    "    \n",
    "    Y_one_hot = one_hot_encoding(Y, num_classes)\n",
    "    m = Y.shape[1]\n",
    "    L = len(layer_dims) - 1\n",
    "    \n",
    "    learning_rate0 = learning_rate   # the original learning rate\n",
    "    \n",
    "    # Optimization loop\n",
    "    for i in range(num_iterations):\n",
    "        mini_batches = random_mini_batches(X, Y_one_hot)\n",
    "        cost_total = 0\n",
    "        running_means_per_layer = [np.zeros((layer_dims[l+1], 1)) for l in range(L)]\n",
    "        running_vars_per_layer = [np.zeros((layer_dims[l+1], 1)) for l in range(L)]\n",
    "        \n",
    "        for b, mini_batch in enumerate(mini_batches):\n",
    "\n",
    "            # Select a minibatch\n",
    "            (mini_batch_X, mini_batch_Y) = mini_batch\n",
    "\n",
    "            # Forward propagation\n",
    "            AL, caches, means_per_layer, variances_per_layer = L_model_forward(mini_batch_X, parameters, L)\n",
    "            \n",
    "            # Update running averages across mini-batches (per layer)\n",
    "            for l in range(L):\n",
    "                running_means_per_layer[l] = momentum * running_means_per_layer[l] + (1 - momentum) * means_per_layer[l]\n",
    "                running_vars_per_layer[l] = momentum * running_vars_per_layer[l] + (1 - momentum) * variances_per_layer[l]\n",
    "                \n",
    "            # Compute cost and add to the cost total\n",
    "            cost_total += compute_cost(AL, mini_batch_Y, parameters, lambd)\n",
    "\n",
    "            # Backward propagation\n",
    "            grads = L_model_backward(AL, mini_batch_Y, caches, lambd)\n",
    "\n",
    "            # Update parameters\n",
    "            t += 1  # Adam counter\n",
    "            parameters, v, s, _, _ = update_parameters_with_adam(parameters, grads, v, s, t, learning_rate)\n",
    "            \n",
    "        cost_avg = cost_total / m\n",
    "        \n",
    "        if decay:\n",
    "            learning_rate = decay(learning_rate0, i, decay_rate)\n",
    "        \n",
    "        # Store the cost every n number of epochs\n",
    "        if i == 0 or i % 5 == 0 or i == num_iterations - 1:\n",
    "            costs.append(cost_avg)\n",
    "            if print_cost:\n",
    "                print (\"Cost after epoch %i: %f\" %(i, cost_avg))\n",
    "    \n",
    "    return parameters, costs, running_means_per_layer, running_vars_per_layer"
   ]
  },
  {
   "cell_type": "code",
   "execution_count": 38,
   "id": "0d4d032b",
   "metadata": {},
   "outputs": [],
   "source": [
    "def predict(X, parameters, L, means_per_layer, vars_per_layer):\n",
    "    AL, _, _, _ = L_model_forward(X, parameters, L, means_per_layer, vars_per_layer)\n",
    "    return np.argmax(AL, axis=0, keepdims=True)"
   ]
  },
  {
   "cell_type": "code",
   "execution_count": 39,
   "id": "ce8d73ec",
   "metadata": {},
   "outputs": [],
   "source": [
    "def accuracy(X, Y, parameters, L, means_per_layer, vars_per_layer):\n",
    "    return np.sum(predict(X, parameters, L, means_per_layer, vars_per_layer) == Y) / X.shape[1]"
   ]
  },
  {
   "cell_type": "code",
   "execution_count": 40,
   "id": "3fd291ba",
   "metadata": {},
   "outputs": [],
   "source": [
    "# CHECK BN FORWARD PASS"
   ]
  },
  {
   "cell_type": "code",
   "execution_count": 59,
   "id": "04d006a0",
   "metadata": {},
   "outputs": [
    {
     "name": "stdout",
     "output_type": "stream",
     "text": [
      "Before batch normalization:\n",
      "  means:  [ 17.38546145 -28.21498249  55.02474629]\n",
      "  stds:  [32.98591027 31.65106098 31.74463317]\n",
      "After batch normalization (gamma=1, beta=0)\n",
      "  mean:  [7.10542736e-17 4.88498131e-17 9.76996262e-17]\n",
      "  std:  [1. 1. 1.]\n",
      "After batch normalization (nontrivial gamma, beta)\n",
      "  means:  [11. 12. 13.]\n",
      "  stds:  [1. 2. 3.]\n"
     ]
    }
   ],
   "source": [
    "# Credits to Standford course cs231n for this block of code.\n",
    "# https://cs231n.github.io/assignments2022/assignment2/\n",
    "\n",
    "# Check the training-time forward pass by checking means and variances\n",
    "# of features both before and after batch normalization\n",
    "\n",
    "# Simulate the forward pass for a two-layer network\n",
    "M, D1, D2, D3 = 200, 50, 60, 3\n",
    "X = np.random.randn(D1, M)\n",
    "W1 = np.random.randn(D2, D1)\n",
    "W2 = np.random.randn(D3, D2)\n",
    "a = W2.dot(np.maximum(0, W1.dot(X)))\n",
    "\n",
    "print('Before batch normalization:')\n",
    "print('  means: ', a.mean(axis=1))\n",
    "print('  stds: ', a.std(axis=1))\n",
    "\n",
    "# Means should be close to zero and stds close to one\n",
    "print('After batch normalization (gamma=1, beta=0)')\n",
    "a_norm, _ = batch_norm(a, np.zeros((D3, 1)), np.ones((D3, 1)))\n",
    "a_norm_mean = a_norm.mean(axis=1)\n",
    "a_norm_std = a_norm.std(axis=1)\n",
    "print('  mean: ', a_norm_mean)\n",
    "print('  std: ', a_norm_std)\n",
    "\n",
    "assert np.isclose(a_norm_mean, np.zeros(a_norm_mean.shape)).all()\n",
    "assert np.isclose(a_norm_std, np.ones(a_norm_mean.shape)).all()\n",
    "\n",
    "# Now means should be close to beta and stds close to gamma\n",
    "beta = np.asarray([[11.0], [12.0], [13.0]])\n",
    "gamma = np.asarray([[1.0], [2.0], [3.0]])\n",
    "a_norm, _ = batch_norm(a, beta, gamma)\n",
    "a_norm_mean = a_norm.mean(axis=1)\n",
    "a_norm_std = a_norm.std(axis=1)\n",
    "print('After batch normalization (nontrivial gamma, beta)')\n",
    "print('  means: ', a_norm_mean)\n",
    "print('  stds: ', a_norm_std)\n",
    "\n",
    "assert np.isclose(a_norm_mean, beta.flatten()).all()\n",
    "assert np.isclose(a_norm_std, gamma.flatten()).all()"
   ]
  },
  {
   "cell_type": "code",
   "execution_count": 75,
   "id": "ed57fac3",
   "metadata": {},
   "outputs": [
    {
     "name": "stdout",
     "output_type": "stream",
     "text": [
      "After batch normalization (test-time):\n",
      "  means:  [-0.02951383  0.10758225 -0.13066542]\n",
      "  stds:  [0.91736387 1.04711055 0.95737263]\n"
     ]
    }
   ],
   "source": [
    "# Credits to Standford course cs231n for this block of code.\n",
    "# https://cs231n.github.io/assignments2022/assignment2/\n",
    "\n",
    "# Check the test-time forward pass by running the training-time\n",
    "# forward pass many times to warm up the running averages, and then\n",
    "# checking the means and variances of activations after a test-time\n",
    "# forward pass.\n",
    "\n",
    "M, D1, D2, D3 = 200, 50, 60, 3\n",
    "W1 = np.random.randn(D2, D1)\n",
    "W2 = np.random.randn(D3, D2)\n",
    "\n",
    "gamma = np.ones((D3, 1))\n",
    "beta = np.zeros((D3, 1))\n",
    "for t in range(50):\n",
    "    X = np.random.randn(D1, M)\n",
    "    a = W2.dot(np.maximum(0, W1.dot(X)))\n",
    "    a_norm, cache = batch_norm(a, beta, gamma)\n",
    "\n",
    "_, _, _, _, _, _, _, mean, var = cache\n",
    "\n",
    "X = np.random.randn(D1, M)\n",
    "a = W2.dot(np.maximum(0, W1.dot(X)))\n",
    "a_norm, _ = batch_norm(a, beta, gamma, mean, var)\n",
    "a_norm_mean = a_norm.mean(axis=1)\n",
    "a_norm_std = a_norm.std(axis=1)\n",
    "\n",
    "# Means should be close to zero and stds close to one, but will be\n",
    "# noisier than training-time forward passes.\n",
    "print('After batch normalization (test-time):')\n",
    "print('  means: ', a_norm_mean)\n",
    "print('  stds: ', a_norm_std)\n",
    "\n",
    "assert np.isclose(a_norm_mean, np.zeros(a_norm_mean.shape), atol=.255).all()\n",
    "assert np.isclose(a_norm_std, np.ones(a_norm_mean.shape), atol=.15).all()"
   ]
  },
  {
   "cell_type": "code",
   "execution_count": 43,
   "id": "205eee6a",
   "metadata": {},
   "outputs": [],
   "source": [
    "# CHECK BN BACKWARD PASS"
   ]
  },
  {
   "cell_type": "code",
   "execution_count": 81,
   "id": "0293e18e",
   "metadata": {},
   "outputs": [
    {
     "name": "stdout",
     "output_type": "stream",
     "text": [
      "Shape of grad is  (5, 4)\n",
      "Shape of grad is  (5, 1)\n",
      "Shape of grad is  (5, 1)\n",
      "Shape of dx is  (5, 4)\n",
      "dx error:  4.5740574144533545e-10\n",
      "dgamma error:  1.176717928039398e-09\n",
      "dbeta error:  7.871800462910199e-12\n",
      "\u001b[92mYour backward propagation works perfectly fine! difference = 1.2156157823905741e-11\u001b[0m\n"
     ]
    }
   ],
   "source": [
    "# Credits to Standford course cs231n for this block of code.\n",
    "# https://cs231n.github.io/assignments2022/assignment2/\n",
    "\n",
    "# Gradient check batchnorm backward pass\n",
    "\n",
    "from random import randrange\n",
    "\n",
    "\n",
    "def eval_numerical_gradient_array(f, x, df, h=1e-5):\n",
    "  \"\"\"\n",
    "  Evaluate a numeric gradient for a function that accepts a numpy\n",
    "  array and returns a numpy array.\n",
    "  \"\"\"\n",
    "  grad = np.zeros_like(x)\n",
    "  it = np.nditer(x, flags=['multi_index'], op_flags=['readwrite'])\n",
    "  while not it.finished:\n",
    "    ix = it.multi_index\n",
    "    \n",
    "    oldval = x[ix]\n",
    "    x[ix] = oldval + h\n",
    "    pos = f(x).copy()\n",
    "    x[ix] = oldval - h\n",
    "    neg = f(x).copy()\n",
    "    x[ix] = oldval\n",
    "    \n",
    "    grad[ix] = np.sum((pos - neg) * df) / (2 * h)\n",
    "    it.iternext()\n",
    "  print(\"Shape of grad is \", grad.shape)\n",
    "  return grad\n",
    "\n",
    "\n",
    "def rel_error(x, y):\n",
    "    \"\"\" returns relative error \"\"\"\n",
    "    return np.max(np.abs(x - y) / (np.maximum(1e-8, np.abs(x) + np.abs(y))))\n",
    "\n",
    "\n",
    "D, M = 5, 4\n",
    "x = 5 * np.random.randn(D, M) + 12\n",
    "gamma = np.random.randn(D, 1)\n",
    "beta = np.random.randn(D, 1)\n",
    "dout = np.random.randn(D, M)\n",
    "\n",
    "fx = lambda x: batch_norm(x, beta, gamma)[0]\n",
    "fg = lambda a: batch_norm(x, beta, gamma)[0]\n",
    "fb = lambda b: batch_norm(x, beta, gamma)[0]\n",
    "\n",
    "dx_num = eval_numerical_gradient_array(fx, x, dout)\n",
    "da_num = eval_numerical_gradient_array(fg, gamma, dout)\n",
    "db_num = eval_numerical_gradient_array(fb, beta, dout)\n",
    "\n",
    "_, cache = batch_norm(x, beta, gamma)\n",
    "dx, dbeta, dgamma = batch_norm_backward(dout, cache)\n",
    "print(\"Shape of dx is \", dx.shape)\n",
    "print('dx error: ', rel_error(dx_num, dx))\n",
    "print('dgamma error: ', rel_error(da_num, dgamma))\n",
    "print('dbeta error: ', rel_error(db_num, dbeta))\n",
    "\n",
    "grad = np.concatenate((dx.flatten(), dgamma.flatten(), dbeta.flatten()))\n",
    "gradapprox = np.concatenate((dx_num.flatten(), da_num.flatten(), db_num.flatten()))\n",
    "\n",
    "numerator = np.linalg.norm(grad - gradapprox)\n",
    "denominator = np.linalg.norm(grad) + np.linalg.norm(gradapprox)\n",
    "difference = numerator / denominator\n",
    "\n",
    "if difference > 2e-7:\n",
    "    print (\"\\033[93m\" + \"There is a mistake in the backward propagation! difference = \" + str(difference) + \"\\033[0m\")\n",
    "else:\n",
    "    print (\"\\033[92m\" + \"Your backward propagation works perfectly fine! difference = \" + str(difference) + \"\\033[0m\")\n"
   ]
  },
  {
   "cell_type": "code",
   "execution_count": 45,
   "id": "dda444c4",
   "metadata": {},
   "outputs": [],
   "source": [
    "# TRAIN MODEL WITH BN"
   ]
  },
  {
   "cell_type": "code",
   "execution_count": 95,
   "id": "784b09f5",
   "metadata": {},
   "outputs": [
    {
     "name": "stdout",
     "output_type": "stream",
     "text": [
      "Cost after epoch 0: 0.005037\n",
      "Cost after epoch 5: 0.001887\n",
      "Cost after epoch 10: 0.001383\n",
      "Cost after epoch 15: 0.001140\n",
      "Cost after epoch 20: 0.001024\n",
      "Cost after epoch 25: 0.000894\n",
      "Cost after epoch 30: 0.001452\n",
      "Cost after epoch 35: 0.001201\n",
      "Cost after epoch 40: 0.001036\n",
      "Cost after epoch 45: 0.000967\n",
      "Cost after epoch 50: 0.000948\n",
      "Cost after epoch 55: 0.000821\n",
      "Cost after epoch 60: 0.000765\n",
      "Cost after epoch 65: 0.000669\n",
      "Cost after epoch 70: 0.000601\n",
      "Cost after epoch 74: 0.000568\n",
      "Train set accuracy: 98.04333333333334%\n",
      "Test set accuracy: 96.78%\n"
     ]
    },
    {
     "data": {
      "image/png": "[encoded data removed]",
      "text/plain": [
       "<Figure size 432x288 with 1 Axes>"
      ]
     },
     "metadata": {
      "needs_background": "light"
     },
     "output_type": "display_data"
    }
   ],
   "source": [
    "x_train = x_train_flat[:,:]/255.\n",
    "y_train = y_train_orig[:,:]\n",
    "x_test = x_test_flat[:,:]/255.\n",
    "y_test = y_test_orig[:,:]\n",
    "\n",
    "#print(\"mean of x_train on a few examples: \" + str(x_train.mean(axis=1, keepdims=True)))\n",
    "#print(\"var of x_train on a few examples: \" + str(x_train.var(axis=1, keepdims=True)))\n",
    "\n",
    "learning_rate = 0.1\n",
    "num_classes = 10\n",
    "layer_dims = [n_rows*n_cols, 110, num_classes]\n",
    "L = len(layer_dims) - 1\n",
    "\n",
    "parameters, costs, means_per_layer, vars_per_layer = L_layer_model(x_train, y_train, layer_dims, learning_rate,\n",
    "                                                                   num_iterations = 75, lambd = 0.7,\n",
    "                                                                   momentum = 0.9, print_cost=True, \n",
    "                                                                   decay=exponential_update_lr, decay_rate=0.6)\n",
    "\n",
    "\n",
    "#print(\"moving mean on a few examples: \" + str(means_per_layer))\n",
    "#print(\"moving var on a few examples: \" + str(vars_per_layer))\n",
    "\n",
    "print(\"Train set accuracy: {}%\".format(accuracy(x_train, y_train, parameters, L, means_per_layer, vars_per_layer) * 100.0))\n",
    "print(\"Test set accuracy: {}%\".format(accuracy(x_test, y_test, parameters, L, means_per_layer, vars_per_layer) * 100.0))\n",
    "\n",
    "# plot the cost\n",
    "plt.plot(costs)\n",
    "plt.ylabel('cost')\n",
    "plt.xlabel('epochs (per 5)')\n",
    "plt.title(\"Learning rate = \" + str(learning_rate))\n",
    "plt.show()"
   ]
  },
  {
   "cell_type": "code",
   "execution_count": null,
   "id": "64b582ce",
   "metadata": {},
   "outputs": [],
   "source": []
  }
 ],
 "metadata": {
  "kernelspec": {
   "display_name": "Python 3 (ipykernel)",
   "language": "python",
   "name": "python3"
  },
  "language_info": {
   "codemirror_mode": {
    "name": "ipython",
    "version": 3
   },
   "file_extension": ".py",
   "mimetype": "text/x-python",
   "name": "python",
   "nbconvert_exporter": "python",
   "pygments_lexer": "ipython3",
   "version": "3.9.12"
  }
 },
 "nbformat": 4,
 "nbformat_minor": 5
}
